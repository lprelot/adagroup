{
 "cells": [
  {
   "cell_type": "markdown",
   "metadata": {
    "collapsed": true
   },
   "source": [
    "# Interactive visualization"
   ]
  },
  {
   "cell_type": "code",
   "execution_count": null,
   "metadata": {
    "collapsed": true
   },
   "outputs": [],
   "source": [
    "import os\n",
    "import pandas as pd\n",
    "import json\n",
    "import folium\n",
    "from IPython.display import display, HTML\n",
    "from ipywidgets import widgets\n",
    "from ipywidgets import interact\n",
    "import branca.colormap as cm"
   ]
  },
  {
   "cell_type": "code",
   "execution_count": null,
   "metadata": {},
   "outputs": [],
   "source": [
    "europe_unemployment_data = pd.DataFrame.from_csv('data/europe_unemployment.tsv', sep='\\t', header=0)\n",
    "europe_unemployment_data.head()"
   ]
  },
  {
   "cell_type": "markdown",
   "metadata": {},
   "source": [
    "## Description taken from eurostat: \n",
    "\n",
    "Unemployment rates represent unemployed persons as a percentage of the labour force. The labour force is the total number of people employed and unemployed. Unemployed persons comprise persons aged 15 to 74 who were: a. without work during the reference week, b. currently available for work, i.e. were available for paid employment or self-employment before the end of the two weeks following the reference week, c. actively seeking work, i.e. had taken specific steps in the four weeks period ending with the reference week to seek paid employment or self-employment or who found a job to start later, i.e. within a period of, at most, three months. This table does not only show unemployment rates but also unemployed in 1000 and as % of the total population. "
   ]
  },
  {
   "cell_type": "code",
   "execution_count": null,
   "metadata": {
    "collapsed": true
   },
   "outputs": [],
   "source": [
    "europe_unemployment_data_2016 = europe_unemployment_data[europe_unemployment_data.index.str.match(\".*PC_ACT.*\")]['2016 '].reset_index()\n",
    "\n",
    "europe_unemployment_data_2016.columns = ['Country', 'Rate']\n",
    "europe_unemployment_data_2016['Country'] = europe_unemployment_data_2016['Country'].str.extract('(..$)', expand=False)"
   ]
  },
  {
   "cell_type": "code",
   "execution_count": null,
   "metadata": {
    "collapsed": true
   },
   "outputs": [],
   "source": [
    "europe_unemployment_data_2016.at[35, 'Country']= 'GB'"
   ]
  },
  {
   "cell_type": "code",
   "execution_count": null,
   "metadata": {},
   "outputs": [],
   "source": [
    "europe_json = json.load(open(\"topojson/europe.topojson.json\"))\n",
    "m = folium.Map([47.870833, 9.085721], tiles='cartodbpositron', zoom_start=4)\n",
    "m.choropleth(europe_json, \n",
    "             data=europe_unemployment_data_2016, \n",
    "             columns=['Country', 'Rate'], \n",
    "             key_on='feature.id', \n",
    "             fill_color='YlOrRd',\n",
    "             topojson='objects.europe',\n",
    "             )\n",
    "m"
   ]
  },
  {
   "cell_type": "markdown",
   "metadata": {},
   "source": [
    "# 2 Swiss unemployment data\n",
    "## 2.a Unemployment rates\n",
    "The description in the homework handout is wrong. The Swiss confederation actually defines unemployment rates as the number of people registered in a placement office without a current job divided by the number of active people. \n",
    "You'll find below a choropleth map of unemployment rates in Switzerland. "
   ]
  },
  {
   "cell_type": "code",
   "execution_count": null,
   "metadata": {},
   "outputs": [],
   "source": [
    "swiss_unemployment_data = pd.read_csv('data/swiss_unemployment_total.csv')\n",
    "swiss_unemployment_rates = swiss_unemployment_data.copy()[['Canton','Taux de chômage (1 cav)','Taux de chômage des jeunes (1 pdv)']]\n",
    "swiss_unemployment_rates.head()"
   ]
  },
  {
   "cell_type": "code",
   "execution_count": null,
   "metadata": {
    "collapsed": true
   },
   "outputs": [],
   "source": [
    "cantons_dict = {'Zurich': 'ZH', 'Berne': 'BE','Lucerne':'LU','Uri':'UR','Schwyz':'SZ',\n",
    "    'Obwald':'OW','Nidwald':'NW','Glaris':'GL','Zoug':'ZG','Fribourg':'FR',\n",
    "    'Soleure':'SO','Bâle-Ville':'BS','Bâle-Campagne':'BL','Schaffhouse':'SH',\n",
    "    'Appenzell Rhodes-Extérieures':'AR','Appenzell Rhodes-Intérieures':'AI',\n",
    "    'St-Gall':'SG','Grisons':'GR','Argovie':'AG','Thurgovie':'TG','Tessin':'TI',\n",
    "    'Vaud':'VD','Valais':'VS','Neuchâtel':'NE','Genève':'GE','Jura':'JU'}\n",
    "\n",
    "swiss_unemployment_rates.Canton.replace(cantons_dict, inplace=True)"
   ]
  },
  {
   "cell_type": "code",
   "execution_count": null,
   "metadata": {},
   "outputs": [],
   "source": [
    "swiss_json = json.load(open(\"topojson/ch-cantons.topojson.json\"))\n",
    "\n",
    "map_ = folium.Map([46.819393, 8.333115], tiles='cartodbpositron', zoom_start=8)\n",
    "map_.choropleth(swiss_json, \n",
    "             data=swiss_unemployment_rates, \n",
    "             columns=['Canton', 'Taux de chômage (1 cav)'], \n",
    "             key_on='feature.id', \n",
    "             fill_color='YlOrRd',\n",
    "             topojson='objects.cantons'\n",
    "             )\n",
    "map_"
   ]
  },
  {
   "cell_type": "code",
   "execution_count": null,
   "metadata": {
    "collapsed": true
   },
   "outputs": [],
   "source": []
  },
  {
   "cell_type": "markdown",
   "metadata": {},
   "source": [
    "## 2.b Alternative definition of unemployment\n",
    "Now we also consider in our rates the number of people that currently have a job but are also registered in a placement office. Because we only have totals available for this variable instead of rates, we need to compute it ourselves. To this end, we will load a different dataset. It contains the total number of job seekers without a job as well as job seekers with a job. We will use the former to find back the number of active people per canton and finally, compute the rates of job seekers with a current job."
   ]
  },
  {
   "cell_type": "code",
   "execution_count": null,
   "metadata": {},
   "outputs": [],
   "source": [
    "swiss_unemployment_numbers_data = pd.read_csv('data/swiss_unemployed_and_job_seekers.csv')\n",
    "swiss_unemployment_numbers = swiss_unemployment_numbers_data.copy()\n",
    "swiss_unemployment_numbers.head()"
   ]
  },
  {
   "cell_type": "markdown",
   "metadata": {},
   "source": [
    "We extract the two variables of interest: \"Demandeurs d'emploi\" and \"Chômeurs inscrits\""
   ]
  },
  {
   "cell_type": "code",
   "execution_count": null,
   "metadata": {
    "collapsed": true
   },
   "outputs": [],
   "source": [
    "chomeurs_mask = swiss_unemployment_numbers.columns.str.endswith(\"2016\")\n",
    "demandeurs_mask = swiss_unemployment_numbers.columns.str.endswith(\"2016.1\")\n",
    "\n",
    "swiss_unemployment_numbers_chomeurs = pd.concat([\n",
    "    swiss_unemployment_numbers['Canton'],\n",
    "    swiss_unemployment_numbers.iloc[:, chomeurs_mask]\n",
    "], axis=1)[1:]\n",
    "\n",
    "swiss_unemployment_numbers_demandeurs = pd.concat([\n",
    "    swiss_unemployment_numbers['Canton'],\n",
    "    swiss_unemployment_numbers.iloc[:, demandeurs_mask]\n",
    "], axis=1)[1:]"
   ]
  },
  {
   "cell_type": "markdown",
   "metadata": {},
   "source": [
    "We take the average over the year for each canton:"
   ]
  },
  {
   "cell_type": "code",
   "execution_count": null,
   "metadata": {},
   "outputs": [],
   "source": [
    "# Clean values and convert to numeric type\n",
    "swiss_unemployment_numbers_chomeurs.replace(\"'\", '', inplace=True, regex=True)\n",
    "swiss_unemployment_numbers_demandeurs.replace(\"'\", '', inplace=True, regex=True)\n",
    "swiss_unemployment_numbers_chomeurs = swiss_unemployment_numbers_chomeurs.apply(pd.to_numeric, errors='ignore')\n",
    "swiss_unemployment_numbers_demandeurs = swiss_unemployment_numbers_demandeurs.apply(pd.to_numeric, errors='ignore')\n",
    "      \n",
    "# Compute average\n",
    "swiss_unemployment_numbers_chomeurs['AVG'] = swiss_unemployment_numbers_chomeurs.mean(axis=1)\n",
    "swiss_unemployment_numbers_demandeurs['AVG'] = swiss_unemployment_numbers_demandeurs.mean(axis=1)\n",
    "\n",
    "# Keep only cantons and average\n",
    "swiss_unemployment_numbers_chomeurs = swiss_unemployment_numbers_chomeurs[['Canton', 'AVG']]\n",
    "swiss_unemployment_numbers_demandeurs = swiss_unemployment_numbers_demandeurs[['Canton', 'AVG']]\n",
    "\n",
    "# Convert cantons to two-letters code\n",
    "swiss_unemployment_numbers_chomeurs.Canton.replace(cantons_dict, inplace=True)\n",
    "swiss_unemployment_numbers_demandeurs.Canton.replace(cantons_dict, inplace=True)\n",
    "\n",
    "# Remove totals\n",
    "swiss_unemployment_numbers_chomeurs = swiss_unemployment_numbers_chomeurs[swiss_unemployment_numbers_chomeurs['Canton'] != 'Total']\n",
    "swiss_unemployment_numbers_demandeurs = swiss_unemployment_numbers_demandeurs[swiss_unemployment_numbers_demandeurs['Canton'] != 'Total']\n",
    "\n",
    "print(swiss_unemployment_numbers_chomeurs.head(3))\n",
    "print(swiss_unemployment_numbers_demandeurs.head(3))"
   ]
  },
  {
   "cell_type": "markdown",
   "metadata": {},
   "source": [
    "We can now compute the active population by canton using the dataframe from the previous question. We have:\n",
    "\n",
    "$$ \\textrm{unemployment rate}=  \\frac{\\textrm{unemployed people}}{\\textrm{active population}} \\Leftrightarrow \n",
    "\\textrm{active population}=  \\frac{\\textrm{unemployed people}}{\\textrm{unemployment rate}}$$"
   ]
  },
  {
   "cell_type": "code",
   "execution_count": null,
   "metadata": {},
   "outputs": [],
   "source": [
    "# Sort by canton to align the data\n",
    "swiss_unemployment_rates_sorted = swiss_unemployment_rates.sort_values('Canton').reset_index(drop=True)\n",
    "swiss_unemployment_numbers_chomeurs_sorted = swiss_unemployment_numbers_chomeurs.sort_values('Canton').reset_index(drop=True)\n",
    "\n",
    "# Convert rates to numeric\n",
    "swiss_unemployment_rates_sorted = swiss_unemployment_rates_sorted.apply(pd.to_numeric, errors='ignore')\n",
    "\n",
    "swiss_active_population = pd.DataFrame(100.0 * swiss_unemployment_numbers_chomeurs_sorted['AVG'] / swiss_unemployment_rates_sorted['Taux de chômage (1 cav)'], columns=['Total'])\n",
    "print(swiss_active_population.head())"
   ]
  },
  {
   "cell_type": "markdown",
   "metadata": {},
   "source": [
    "We can finally obtain the rates of job seeker per canton:"
   ]
  },
  {
   "cell_type": "code",
   "execution_count": null,
   "metadata": {},
   "outputs": [],
   "source": [
    "# Align the job seeker data\n",
    "swiss_unemployment_numbers_demandeurs_sorted = swiss_unemployment_numbers_demandeurs.sort_values('Canton').reset_index(drop=True)\n",
    "swiss_unemployment_numbers_demandeurs_sorted['Taux'] = 100.0 * swiss_unemployment_numbers_demandeurs_sorted['AVG'] / swiss_active_population['Total']\n",
    "print(swiss_unemployment_numbers_demandeurs_sorted.head())"
   ]
  },
  {
   "cell_type": "markdown",
   "metadata": {},
   "source": [
    "With this definition the rates are typically higher. This was to be expected since by definition, unemployed people are a subset of job seekers. Although the distribution changed a bit, the main trend is still present. That is, the cantons  with the highest rates are the french and italian speaking ones."
   ]
  },
  {
   "cell_type": "code",
   "execution_count": null,
   "metadata": {},
   "outputs": [],
   "source": [
    "swiss_json = json.load(open(\"topojson/ch-cantons.topojson.json\"))\n",
    "\n",
    "map_ = folium.Map([46.819393, 8.333115], tiles='cartodbpositron', zoom_start=8)\n",
    "map_.choropleth(swiss_json, \n",
    "             data=swiss_unemployment_numbers_demandeurs_sorted, \n",
    "             columns=['Canton', 'Taux'], \n",
    "             key_on='feature.id', \n",
    "             fill_color='YlOrRd',\n",
    "             topojson='objects.cantons'\n",
    "             )\n",
    "map_"
   ]
  },
  {
   "cell_type": "markdown",
   "metadata": {},
   "source": [
    "# 3 Swiss unemployment, split by nationality"
   ]
  },
  {
   "cell_type": "markdown",
   "metadata": {},
   "source": [
    "We load a new dataset downloaded from amstat. This time, the datasets distinguishes the unemployment rates of Swiss natives and foreigner."
   ]
  },
  {
   "cell_type": "code",
   "execution_count": null,
   "metadata": {
    "collapsed": true
   },
   "outputs": [],
   "source": [
    "swiss_unemployment_nationality_data = pd.read_csv('data/swiss_unemployment_nationality_split.csv')\n",
    "swiss_unemployment_nationality_rates = swiss_unemployment_nationality_data.copy()[['Canton','Taux de chômage (1 cav)','Nationalité']]\n",
    "\n",
    "# Replace the cantons names by their two-letters code\n",
    "swiss_unemployment_nationality_rates.Canton.replace(cantons_dict, inplace=True)"
   ]
  },
  {
   "cell_type": "code",
   "execution_count": null,
   "metadata": {
    "collapsed": true
   },
   "outputs": [],
   "source": [
    "# Extract the relevant data\n",
    "swiss_unemployment_foreign_rates = swiss_unemployment_nationality_rates[swiss_unemployment_nationality_rates['Nationalité'] =='Etrangers']\n",
    "swiss_unemployment_swiss_rates = swiss_unemployment_nationality_rates[swiss_unemployment_nationality_rates['Nationalité'] =='Suisses']"
   ]
  },
  {
   "cell_type": "markdown",
   "metadata": {},
   "source": [
    "This time we plot two choropleth layers and add a LayerControl object. This allows to easily switch between the visualisation of unemployment rates for Swiss natives and unemployment rates for foreigners."
   ]
  },
  {
   "cell_type": "code",
   "execution_count": null,
   "metadata": {},
   "outputs": [],
   "source": [
    "map_ = folium.Map([46.819393, 8.333115], tiles='cartodbpositron', zoom_start=8)\n",
    "map_.choropleth(swiss_json, \n",
    "             data=swiss_unemployment_rates, \n",
    "             columns=['Canton', 'Taux de chômage (1 cav)'], \n",
    "             key_on='feature.id', \n",
    "             fill_color='YlOrRd',\n",
    "             topojson='objects.cantons',\n",
    "             name=\"Swiss natives unemployment rates\"\n",
    "             )\n",
    "map_.choropleth(swiss_json, \n",
    "             data=swiss_unemployment_foreign_rates, \n",
    "             columns=['Canton', 'Taux de chômage (1 cav)'], \n",
    "             key_on='feature.id', \n",
    "             fill_color='YlGn',\n",
    "             topojson='objects.cantons',\n",
    "             name=\"Foreigners unemployment rates\",\n",
    "             highlight= True\n",
    "             )\n",
    "folium.LayerControl(collapsed=False).add_to(map_)\n",
    "map_"
   ]
  },
  {
   "cell_type": "code",
   "execution_count": null,
   "metadata": {
    "collapsed": true
   },
   "outputs": [],
   "source": []
  },
  {
   "cell_type": "markdown",
   "metadata": {},
   "source": [
    "# 4  Röstigraben Delimitation"
   ]
  },
  {
   "cell_type": "code",
   "execution_count": null,
   "metadata": {
    "scrolled": false
   },
   "outputs": [],
   "source": [
    "map_ = folium.Map([46.919393, 8.334115], tiles='cartodbpositron', zoom_start=8)\n",
    "\n",
    "unemployment_swiss_dict = swiss_unemployment_swiss_rates.set_index('Canton')['Taux de chômage (1 cav)']\n",
    "unemployment_foreign_dict = swiss_unemployment_foreign_rates.set_index('Canton')['Taux de chômage (1 cav)']\n",
    "\n",
    "foreign_mean = unemployment_foreign_dict.mean()\n",
    "swiss_mean = unemployment_swiss_dict.mean()\n",
    "\n",
    "foreign_min = unemployment_foreign_dict.min()\n",
    "swiss_min = unemployment_swiss_dict.min()\n",
    "\n",
    "foreign_max = unemployment_foreign_dict.max()\n",
    "swiss_max = unemployment_swiss_dict.max()\n",
    "\n",
    "\n",
    "unem_swiss_unem_foreign_color = '#ae017e'\n",
    "unem_swiss_em_foreign_color = '#fc4e2a'\n",
    "em_swiss_unem_foreign_color = '#1d91c0'\n",
    "em_swiss_em_foreign_color = '#fde0dd'\n",
    "\n",
    "\n",
    "\n",
    "def my_color_function(feature):\n",
    "    if unemployment_swiss_dict[feature['id']] > swiss_mean:\n",
    "        if unemployment_foreign_dict[feature['id']] > foreign_mean:\n",
    "            return unem_swiss_unem_foreign_color\n",
    "        else:\n",
    "            return unem_swiss_em_foreign_color\n",
    "    else:\n",
    "        if unemployment_foreign_dict[feature['id']] > foreign_mean:\n",
    "            return em_swiss_unem_foreign_color\n",
    "        else:\n",
    "            return em_swiss_em_foreign_color\n",
    "    \n",
    "\n",
    "folium.TopoJson(\n",
    "    swiss_json,\n",
    "    object_path ='objects.cantons',\n",
    "    style_function=lambda feature: {\n",
    "        'fillColor': my_color_function(feature),\n",
    "    }\n",
    ").add_to(map_)\n",
    "\n",
    "step = cm.StepColormap(\n",
    "    [em_swiss_em_foreign_color, unem_swiss_em_foreign_color],\n",
    "   vmin= swiss_min,vmax = swiss_max,\n",
    "    index=[swiss_min, swiss_mean,swiss_max],\n",
    "    caption='Unemployment rate of Swiss for low unemployment rate of Foreigners'\n",
    ").add_to(map_)\n",
    "\n",
    "step = cm.StepColormap(\n",
    "    [em_swiss_unem_foreign_color, unem_swiss_unem_foreign_color],\n",
    "    vmin= swiss_min,vmax = swiss_max,\n",
    "    index=[swiss_min, swiss_mean,swiss_max],\n",
    "    caption='Unemployment rate of Swiss for high unemployment rate of Foreigners'\n",
    ").add_to(map_)\n",
    "\n",
    "\n",
    "\n",
    "print(swiss_min, swiss_mean,swiss_max)\n",
    "map_"
   ]
  },
  {
   "cell_type": "code",
   "execution_count": null,
   "metadata": {
    "collapsed": true
   },
   "outputs": [],
   "source": []
  },
  {
   "cell_type": "code",
   "execution_count": null,
   "metadata": {
    "collapsed": true
   },
   "outputs": [],
   "source": []
  }
 ],
 "metadata": {
  "kernelspec": {
   "display_name": "Python [default]",
   "language": "python",
   "name": "python3"
  },
  "language_info": {
   "codemirror_mode": {
    "name": "ipython",
    "version": 3
   },
   "file_extension": ".py",
   "mimetype": "text/x-python",
   "name": "python",
   "nbconvert_exporter": "python",
   "pygments_lexer": "ipython3",
   "version": "3.5.3"
  }
 },
 "nbformat": 4,
 "nbformat_minor": 2
}
